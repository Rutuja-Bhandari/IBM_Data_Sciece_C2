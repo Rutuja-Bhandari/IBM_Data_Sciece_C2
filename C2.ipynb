{
 "cells": [
  {
   "cell_type": "markdown",
   "id": "324d3bc0",
   "metadata": {},
   "source": [
    "# Data Science Essentials Notebook\n"
   ]
  },
  {
   "cell_type": "markdown",
   "id": "f56a4b10",
   "metadata": {},
   "source": [
    "## Introduction\n",
    "This notebook covers essential topics in data science, including languages, libraries, and tools, with examples of arithmetic operations and data manipulation.\n"
   ]
  },
  {
   "cell_type": "markdown",
   "id": "2afc086a",
   "metadata": {},
   "source": [
    "## Data Science Languages\n",
    "- Python\n",
    "- R\n",
    "- SQL\n",
    "- Julia\n",
    "- Scala\n"
   ]
  },
  {
   "cell_type": "markdown",
   "id": "1dd5488f",
   "metadata": {},
   "source": [
    "## Data Science Libraries\n",
    "- Pandas\n",
    "- NumPy\n",
    "- Scikit-learn\n",
    "- TensorFlow\n",
    "- Matplotlib\n"
   ]
  },
  {
   "cell_type": "markdown",
   "id": "e52f5c56",
   "metadata": {},
   "source": [
    "## Data Science Tools\n",
    "| Tool          | Purpose                    |\n",
    "|---------------|----------------------------|\n",
    "| Jupyter       | Interactive computing      |\n",
    "| RStudio       | R development environment  |\n",
    "| Apache Spark  | Big data processing        |\n",
    "| Tableau       | Data visualization         |\n"
   ]
  },
  {
   "cell_type": "markdown",
   "id": "68d2068f",
   "metadata": {},
   "source": [
    "## Arithmetic Expression Examples\n",
    "Here are some examples of basic arithmetic operations using Python.\n"
   ]
  },
  {
   "cell_type": "code",
   "execution_count": 1,
   "id": "b6cb392c",
   "metadata": {},
   "outputs": [
    {
     "data": {
      "text/plain": [
       "17"
      ]
     },
     "execution_count": 1,
     "metadata": {},
     "output_type": "execute_result"
    }
   ],
   "source": [
    "# Example: Multiply and add numbers\n",
    "result = (3 * 4) + 5\n",
    "result\n"
   ]
  },
  {
   "cell_type": "code",
   "execution_count": 2,
   "id": "fcf0e5cc",
   "metadata": {},
   "outputs": [
    {
     "data": {
      "text/plain": [
       "2.0"
      ]
     },
     "execution_count": 2,
     "metadata": {},
     "output_type": "execute_result"
    }
   ],
   "source": [
    "# Convert minutes to hours\n",
    "minutes = 120\n",
    "hours = minutes / 60\n",
    "hours\n"
   ]
  },
  {
   "cell_type": "code",
   "execution_count": null,
   "id": "2e9fe7f6",
   "metadata": {},
   "outputs": [],
   "source": []
  }
 ],
 "metadata": {
  "kernelspec": {
   "display_name": "Python 3 (ipykernel)",
   "language": "python",
   "name": "python3"
  },
  "language_info": {
   "codemirror_mode": {
    "name": "ipython",
    "version": 3
   },
   "file_extension": ".py",
   "mimetype": "text/x-python",
   "name": "python",
   "nbconvert_exporter": "python",
   "pygments_lexer": "ipython3",
   "version": "3.9.13"
  }
 },
 "nbformat": 4,
 "nbformat_minor": 5
}
